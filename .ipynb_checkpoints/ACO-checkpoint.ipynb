{
 "cells": [
  {
   "cell_type": "code",
   "execution_count": 6,
   "id": "6f0ec22f",
   "metadata": {},
   "outputs": [
    {
     "name": "stdout",
     "output_type": "stream",
     "text": [
      "Requirement already satisfied: networkx in d:\\anacondas\\lib\\site-packages (3.2.1)\n",
      "Collecting matplotlib\n",
      "  Using cached matplotlib-3.8.1-cp310-cp310-win_amd64.whl (7.6 MB)\n",
      "Requirement already satisfied: kiwisolver>=1.3.1 in d:\\anacondas\\lib\\site-packages (from matplotlib) (1.4.4)\n",
      "Requirement already satisfied: python-dateutil>=2.7 in d:\\anacondas\\lib\\site-packages (from matplotlib) (2.8.2)\n",
      "Requirement already satisfied: packaging>=20.0 in d:\\anacondas\\lib\\site-packages (from matplotlib) (22.0)\n",
      "Requirement already satisfied: contourpy>=1.0.1 in d:\\anacondas\\lib\\site-packages (from matplotlib) (1.0.5)\n",
      "Requirement already satisfied: pillow>=8 in d:\\anacondas\\lib\\site-packages (from matplotlib) (9.4.0)\n",
      "Requirement already satisfied: fonttools>=4.22.0 in d:\\anacondas\\lib\\site-packages (from matplotlib) (4.25.0)\n",
      "Requirement already satisfied: pyparsing>=2.3.1 in d:\\anacondas\\lib\\site-packages (from matplotlib) (3.0.9)\n",
      "Requirement already satisfied: cycler>=0.10 in d:\\anacondas\\lib\\site-packages (from matplotlib) (0.11.0)\n",
      "Requirement already satisfied: numpy<2,>=1.21 in d:\\anacondas\\lib\\site-packages (from matplotlib) (1.23.5)\n",
      "Requirement already satisfied: six>=1.5 in d:\\anacondas\\lib\\site-packages (from python-dateutil>=2.7->matplotlib) (1.16.0)\n",
      "Installing collected packages: matplotlib\n",
      "Successfully installed matplotlib-3.8.1\n"
     ]
    },
    {
     "name": "stderr",
     "output_type": "stream",
     "text": [
      "WARNING: Ignoring invalid distribution -atplotlib (d:\\anacondas\\lib\\site-packages)\n",
      "WARNING: Ignoring invalid distribution -atplotlib (d:\\anacondas\\lib\\site-packages)\n",
      "WARNING: Ignoring invalid distribution -atplotlib (d:\\anacondas\\lib\\site-packages)\n",
      "WARNING: Ignoring invalid distribution -atplotlib (d:\\anacondas\\lib\\site-packages)\n",
      "WARNING: Ignoring invalid distribution -atplotlib (d:\\anacondas\\lib\\site-packages)\n",
      "WARNING: Ignoring invalid distribution -atplotlib (d:\\anacondas\\lib\\site-packages)\n"
     ]
    }
   ],
   "source": [
    "!pip install --user networkx matplotlib\n"
   ]
  },
  {
   "cell_type": "code",
   "execution_count": 12,
   "id": "c2ce1c17",
   "metadata": {},
   "outputs": [],
   "source": [
    "import numpy as np\n",
    "import random\n",
    "import matplotlib.pyplot as plt\n",
    "import networkx as nx"
   ]
  },
  {
   "cell_type": "code",
   "execution_count": 16,
   "id": "37fd9f8c",
   "metadata": {},
   "outputs": [
    {
     "name": "stdout",
     "output_type": "stream",
     "text": [
      "Best path: 5\n"
     ]
    },
    {
     "ename": "TypeError",
     "evalue": "'numpy.int64' object is not iterable",
     "output_type": "error",
     "traceback": [
      "\u001b[1;31m---------------------------------------------------------------------------\u001b[0m",
      "\u001b[1;31mTypeError\u001b[0m                                 Traceback (most recent call last)",
      "Cell \u001b[1;32mIn[16], line 24\u001b[0m\n\u001b[0;32m     21\u001b[0m nx\u001b[38;5;241m.\u001b[39mdraw_networkx_nodes(G, pos, nodelist\u001b[38;5;241m=\u001b[39mnon_best_path_nodes, node_color\u001b[38;5;241m=\u001b[39m\u001b[38;5;124m\"\u001b[39m\u001b[38;5;124mskyblue\u001b[39m\u001b[38;5;124m\"\u001b[39m, node_size\u001b[38;5;241m=\u001b[39m\u001b[38;5;241m700\u001b[39m, ax\u001b[38;5;241m=\u001b[39max)\n\u001b[0;32m     23\u001b[0m \u001b[38;5;66;03m# Convert numpy.int64 to regular Python integers for best_path_nodes\u001b[39;00m\n\u001b[1;32m---> 24\u001b[0m best_path_nodes \u001b[38;5;241m=\u001b[39m [\u001b[38;5;28mint\u001b[39m(node) \u001b[38;5;28;01mfor\u001b[39;00m node \u001b[38;5;129;01min\u001b[39;00m best_path]\n\u001b[0;32m     26\u001b[0m \u001b[38;5;66;03m# Highlight the best path nodes with red color\u001b[39;00m\n\u001b[0;32m     27\u001b[0m nx\u001b[38;5;241m.\u001b[39mdraw_networkx_nodes(G, pos, nodelist\u001b[38;5;241m=\u001b[39mbest_path_nodes, node_color\u001b[38;5;241m=\u001b[39m\u001b[38;5;124m'\u001b[39m\u001b[38;5;124mred\u001b[39m\u001b[38;5;124m'\u001b[39m, node_size\u001b[38;5;241m=\u001b[39m\u001b[38;5;241m700\u001b[39m, ax\u001b[38;5;241m=\u001b[39max)\n",
      "\u001b[1;31mTypeError\u001b[0m: 'numpy.int64' object is not iterable"
     ]
    },
    {
     "data": {
      "image/png": "[encoded data removed]",
      "text/plain": [
       "<Figure size 1000x600 with 1 Axes>"
      ]
     },
     "metadata": {},
     "output_type": "display_data"
    }
   ],
   "source": [
    "best_path = np.argmax(pheromone.sum(axis=1))\n",
    "print(\"Best path:\", best_path)\n",
    "\n",
    "# Visualize the graph and the best path\n",
    "G = nx.Graph()\n",
    "G.add_nodes_from(range(len(graph)))\n",
    "\n",
    "for i in range(len(graph)):\n",
    "    for j in range(len(graph)):\n",
    "        if i != j:\n",
    "            G.add_edge(i, j, weight=graph[i, j])\n",
    "\n",
    "pos = nx.spring_layout(G)  # Define node positions for better visualization\n",
    "\n",
    "# Explicitly create a figure and axes\n",
    "fig, ax = plt.subplots(figsize=(10, 6))\n",
    "\n",
    "# Draw nodes\n",
    "nx.draw(G, pos, with_labels=True, node_size=700, node_color=\"skyblue\", font_size=8, font_color=\"black\", ax=ax)\n",
    "\n",
    "# Highlight the best path nodes with red color\n",
    "nx.draw_networkx_nodes(G, pos, nodelist=[best_path], node_color='red', node_size=700)\n",
    "\n",
    "# Convert numpy.int64 to regular Python integers for best_path_edges\n",
    "best_path_edges = [(int(best_path[i]), int(best_path[i + 1])) for i in range(len(best_path) - 1)]\n",
    "\n",
    "# Highlight the best path edges with red color\n",
    "nx.draw_networkx_edges(G, pos, edgelist=best_path_edges, edge_color='red', width=2, ax=ax)\n",
    "\n",
    "# Add labels with directions on edges\n",
    "labels = {}\n",
    "for i, j in G.edges():\n",
    "    labels[(i, j)] = f\"{graph[i, j]:.2f} + {0.1 * traffic_data[i, j]:.2f}\"  # Display both distance and traffic data\n",
    "\n",
    "nx.draw_networkx_edge_labels(G, pos, edge_labels=labels, font_color='green', font_size=8)\n",
    "\n",
    "plt.title('Ant Colony Optimization - Best Path')\n",
    "plt.show()"
   ]
  },
  {
   "cell_type": "code",
   "execution_count": null,
   "id": "d58f0e74",
   "metadata": {},
   "outputs": [],
   "source": []
  },
  {
   "cell_type": "code",
   "execution_count": null,
   "id": "dc5f075b",
   "metadata": {},
   "outputs": [],
   "source": []
  }
 ],
 "metadata": {
  "kernelspec": {
   "display_name": "Python 3 (ipykernel)",
   "language": "python",
   "name": "python3"
  },
  "language_info": {
   "codemirror_mode": {
    "name": "ipython",
    "version": 3
   },
   "file_extension": ".py",
   "mimetype": "text/x-python",
   "name": "python",
   "nbconvert_exporter": "python",
   "pygments_lexer": "ipython3",
   "version": "3.10.9"
  }
 },
 "nbformat": 4,
 "nbformat_minor": 5
}
